{
  "nbformat": 4,
  "nbformat_minor": 0,
  "metadata": {
    "kernelspec": {
      "display_name": "Python 3",
      "language": "python",
      "name": "python3"
    },
    "language_info": {
      "codemirror_mode": {
        "name": "ipython",
        "version": 3
      },
      "file_extension": ".py",
      "mimetype": "text/x-python",
      "name": "python",
      "nbconvert_exporter": "python",
      "pygments_lexer": "ipython3",
      "version": "3.9.2"
    },
    "colab": {
      "name": "seagrass_classification_collections_colab.ipynb",
      "provenance": []
    }
  },
  "cells": [
    {
      "cell_type": "markdown",
      "metadata": {
        "id": "Kkc23H-J7mvm"
      },
      "source": [
        "# Semi-Automated Seagrass Classification Using Earth Engine Python API"
      ]
    },
    {
      "cell_type": "markdown",
      "metadata": {
        "id": "TZEfGRkG7mvp"
      },
      "source": [
        "This script classify seagrass beds in selected BOA images using ground-data to train the Support Vector Machine classifier. The outputs can be exported to EE Assets. All the training and validation matrices and accuracies can be saved as an Excel file in your working directory.<br/>\n"
      ]
    },
    {
      "cell_type": "markdown",
      "metadata": {
        "id": "StRlEBwi7mvq"
      },
      "source": [
        "Script by: Luis Lizcano-Sandoval (2021)<br/>\n",
        "College of Marine Sciences, University of South Florida<br/>\n",
        "luislizcanos@usf.edu\n",
        "Updated: 05/19/2022"
      ]
    },
    {
      "cell_type": "markdown",
      "metadata": {
        "id": "YtoTq1yw7mvr"
      },
      "source": [
        "<font size=\"4\">**Workflow:**</font>"
      ]
    },
    {
      "cell_type": "markdown",
      "metadata": {
        "id": "UvH1rPqO7mvr"
      },
      "source": [
        "1. Import required images, collections, data, etc.\n",
        "2. Mask clouds and land\n",
        "3. Apply Depth-Invariant Index (generates band-ratios B2B3)\n",
        "4. Sample bands: B1, B2, B3, B4, B/G\n",
        "5. Train models and classify (SVM)\n",
        "6. Get confusion matrices and accuracies\n",
        "7. Export classification images to EE Assets (.tiff)\n",
        "8. Save matrices in GDrive (.xlxs)"
      ]
    },
    {
      "cell_type": "code",
      "metadata": {
        "id": "iSypAzax7vs3"
      },
      "source": [
        "## Run this cell to mount your Google Drive\n",
        "import os, sys\n",
        "from google.colab import drive\n",
        "drive.mount('/content/drive')\n",
        "nb_path = '/content/notebooks'\n",
        "os.symlink('/content/drive/My Drive/Colab Notebooks', nb_path)\n",
        "sys.path.insert(0, nb_path)  # or append(nb_path)"
      ],
      "execution_count": null,
      "outputs": []
    },
    {
      "cell_type": "code",
      "metadata": {
        "id": "KxZOkVNh7vzc"
      },
      "source": [
        "## Authenticate your EE account\n",
        "!earthengine authenticate"
      ],
      "execution_count": null,
      "outputs": []
    },
    {
      "cell_type": "code",
      "metadata": {
        "id": "HOieAPGS7v3e"
      },
      "source": [
        "## Install some libraries [may need to restart runtime after]:\n",
        "!pip install xlsxwriter\n",
        "!pip install geemap"
      ],
      "execution_count": null,
      "outputs": []
    },
    {
      "cell_type": "code",
      "metadata": {
        "id": "3alEOlxc70Ga"
      },
      "source": [
        "## Clone github repo:\n",
        "!git clone https://github.com/luislizcano/seagrass_scripts.git"
      ],
      "execution_count": null,
      "outputs": []
    },
    {
      "cell_type": "markdown",
      "metadata": {
        "id": "oXQkPAN37mvr"
      },
      "source": [
        "**Load required libraries:**"
      ]
    },
    {
      "cell_type": "code",
      "metadata": {
        "id": "Svqhr6A87mvs"
      },
      "source": [
        "## Import google libraries\n",
        "import os, sys #Import os, sys again if runtime was restarted.\n",
        "sys.path.insert(0,'/content/seagrass_scripts')\n",
        "sys.path.append('/content/seagrass_scripts/bin/')\n",
        "\n",
        "from google.colab import auth\n",
        "auth.authenticate_user()\n",
        "\n",
        "import google\n",
        "SCOPES = ['https://www.googleapis.com/auth/cloud-platform', 'https://www.googleapis.com/auth/earthengine']\n",
        "CREDENTIALS, project_id = google.auth.default(default_scopes=SCOPES)\n",
        "\n",
        "import ee\n",
        "ee.Initialize(CREDENTIALS, project='earth-engine-252816')"
      ],
      "execution_count": 1,
      "outputs": []
    },
    {
      "cell_type": "code",
      "metadata": {
        "id": "OEfRgGdg7mvt"
      },
      "source": [
        "## Import other libraries and functions.\n",
        "## Print EE version and verify if it is loaded:\n",
        "import pandas as pd\n",
        "import xlsxwriter\n",
        "import datetime\n",
        "import geemap.foliumap as geemap\n",
        "from functions import CloudScore6S,landMaskFunction,tidalMask,turbidityMask,DII\n",
        "print('EE version: ',ee.__version__)"
      ],
      "execution_count": null,
      "outputs": []
    },
    {
      "cell_type": "markdown",
      "metadata": {
        "id": "DHQKbp-C7mvv"
      },
      "source": [
        "**Some metadata:**"
      ]
    },
    {
      "cell_type": "code",
      "metadata": {
        "id": "gcUX9hBr7mvv"
      },
      "source": [
        "## Define the source of your image, if from your EE Assets or EE Collections:\n",
        "# imageSource = 'assets'  ## Read BOA imagery from EE Assets\n",
        "imageSource = 'ee'      ## Read BOA imagery from EE Collections\n",
        "\n",
        "## Define the type of satellite imagery - uncomment as needed:\n",
        "satellite = 'Sentinel2'\n",
        "# satellite = 'Landsat8'\n",
        "# satellite = 'Landsat7'\n",
        "# satellite = 'Landsat5'\n",
        "\n",
        "## Settings for running script:\n",
        "regionName = 'Laguna Madre MX' ## Region to classify [match metadata from ´regions´ collection below]\n",
        "boaFolder = 'FL_20' ## Name of folder with BOA images in assets.\n",
        "exportFolder = '2020_pre' ## Name of EE folder to save the final output - must create it manually if not exist yet.\n",
        "dataFolder = 'Ground-points-19' ## EE Folder with Ground-truth points\n",
        "smoothStr = '_raw_' # Smooth classified pixels or not? options: '_smooth_' or '_raw_'\n",
        "\n",
        "## More metadata for saving image properties:\n",
        "nameCode = 'LMMX' ## Unique code names\n",
        "regionCountry = 'Mexico'\n",
        "state = 'Tamaulipas'"
      ],
      "execution_count": 3,
      "outputs": []
    },
    {
      "cell_type": "markdown",
      "metadata": {
        "id": "bUZ-UcKK7mvu"
      },
      "source": [
        "**Insert list of image IDs:**"
      ]
    },
    {
      "cell_type": "code",
      "metadata": {
        "id": "WB6mRF9s7mvv"
      },
      "source": [
        "## Paste image ids. The script can work for images from different tiles.\n",
        "imageID = '20201107T170521_20201107T171231_T14QPM'"
      ],
      "execution_count": 4,
      "outputs": []
    },
    {
      "cell_type": "markdown",
      "metadata": {
        "id": "uiKEreDYN3FZ"
      },
      "source": [
        "**Import data:**"
      ]
    },
    {
      "cell_type": "code",
      "metadata": {
        "id": "fYJyy1YfN0z6"
      },
      "source": [
        "#########################    IMPORT TRAINING DATA    #########################\n",
        "\n",
        "# Sandy areas\n",
        "sand_areas = ee.FeatureCollection(\"users/lizcanosandoval/ground-points/Sand\")\n",
        "print('Sand areas loaded:', sand_areas.get('system:id').getInfo())\n",
        "\n",
        "# Ground-Points\n",
        "groundPoints = ee.FeatureCollection(\"users/lizcanosandoval/ground-points/\"+dataFolder)\n",
        "#groundPoints = ee.FeatureCollection(\"users/lizcanosandoval/ground-points/Turkey_2020\")\n",
        "print('Ground-points loaded:', groundPoints.get('system:id').getInfo())\n",
        "\n",
        "## Landmask\n",
        "#land = ee.FeatureCollection(\"users/lizcanosandoval/Florida_10m\") ##Created from NDWI using Sentinel-2 imagery\n",
        "land = ee.ImageCollection(\"users/lizcanosandoval/Watermask_S2\") ##Created from NDWI using Sentinel-2 imagery\n",
        "print('Land mask loaded:', land.get('system:id').getInfo())\n",
        "\n",
        "## Region polygons:\n",
        "regions = ee.FeatureCollection(\"users/lizcanosandoval/Seagrass/Regions\")\n",
        "print('Regions loaded:', regions.get('system:id').getInfo())\n",
        "\n",
        "print('*** Collections loaded correctly! ***')"
      ],
      "execution_count": null,
      "outputs": []
    },
    {
      "cell_type": "markdown",
      "metadata": {
        "id": "YgI9hnsW7mvw"
      },
      "source": [
        "#**Start classification:**"
      ]
    },
    {
      "cell_type": "markdown",
      "source": [
        "**Prepare image metadata**"
      ],
      "metadata": {
        "id": "4noQV9ras_S2"
      }
    },
    {
      "cell_type": "code",
      "source": [
        "######################   Prepare image metadata  #########################\n",
        "\n",
        "## If the image source is your asset, then define the folder where the satellite image is:\n",
        "if 'assets'== imageSource:\n",
        "    ## Load BOA image from assets:\n",
        "    if 'Sentinel' in satellite:\n",
        "        imageTarget = ee.Image(\"users/lizcanosandoval/BOA/Sentinel/\"+boaFolder+'/'+imageID)\n",
        "    elif 'Landsat' in satellite:\n",
        "        imageTarget = ee.Image(\"users/lizcanosandoval/BOA/Landsat/\"+boaFolder+'/'+imageID)\n",
        "    ## Get image metadata:\n",
        "    imageSat = imageTarget.get('satellite').getInfo() #Image satellite\n",
        "    imageTile = imageTarget.get('tile_id').getInfo() #Image tile id\n",
        "    imageDate = imageTarget.get('date').getInfo() #Image date\n",
        "    imageGeometry = imageTarget.geometry() #Tile geometry.\n",
        "\n",
        "## If the image source is an EE collection, then define the satellite collection:\n",
        "if 'ee'== imageSource:\n",
        "    ## Load BOA image collection from EE cloud:\n",
        "    if 'Sentinel' in satellite:\n",
        "        image = ee.Image(\"COPERNICUS/S2_SR/\"+imageID)\n",
        "        imageTarget = image.divide(10000).set(image.toDictionary(image.propertyNames()))\n",
        "        imageSat = imageTarget.get('SPACECRAFT_NAME').getInfo() #Image satellite\n",
        "        imageTile = imageTarget.get('MGRS_TILE').getInfo() #Image tile id\n",
        "        ee_date = imageTarget.get('GENERATION_TIME').getInfo()\n",
        "        imageDate = str(datetime.datetime.utcfromtimestamp(ee_date/1000.0)) #Image date\n",
        "        imageGeometry = imageTarget.geometry() #Tile geometry.\n",
        "    elif 'Landsat8' == satellite:\n",
        "        image = ee.Image(\"LANDSAT/LC08/C01/T1_SR/\"+imageID)\n",
        "        imageTarget = image.divide(10000).set(image.toDictionary(image.propertyNames()))\n",
        "        imageSat = satellite\n",
        "        imageTile = str(imageTarget.get('WRS_PATH').getInfo())+str(imageTarget.get('WRS_ROW').getInfo()) #Image tile id\n",
        "        imageDate = imageTarget.get('SENSING_TIME').getInfo()\n",
        "        imageGeometry = imageTarget.geometry() #Tile geometry.\n",
        "    elif 'Landsat7' == satellite:\n",
        "        image = ee.Image(\"LANDSAT/LE07/C01/T1_SR/\"+imageID)\n",
        "        imageTarget = image.divide(10000).set(image.toDictionary(image.propertyNames()))\n",
        "        imageSat = satellite\n",
        "        imageTile = str(imageTarget.get('WRS_PATH').getInfo())+str(imageTarget.get('WRS_ROW').getInfo()) #Image tile id\n",
        "        imageDate = imageTarget.get('SENSING_TIME').getInfo()\n",
        "        imageGeometry = imageTarget.geometry() #Tile geometry.\n",
        "    elif 'Landsat5' == satellite:\n",
        "        image = ee.Image(\"LANDSAT/LT05/C01/T1_SR/\"+imageID)\n",
        "        imageTarget = image.divide(10000).set(image.toDictionary(image.propertyNames()))\n",
        "        imageSat = satellite\n",
        "        imageTile = str(imageTarget.get('WRS_PATH').getInfo())+str(imageTarget.get('WRS_ROW').getInfo()) #Image tile id\n",
        "        imageDate = imageTarget.get('SENSING_TIME').getInfo()\n",
        "        imageGeometry = imageTarget.geometry() #Tile geometry.\n",
        "\n",
        "if 'Sentinel' in imageSat:\n",
        "    imageScale = 10 # Sentinel resolution\n",
        "else:\n",
        "    imageScale = 30 # Landsat resolution\n",
        "\n",
        "## Region of interest:\n",
        "aoi = regions.filter(ee.Filter.eq('name',regionName))\n",
        "\n",
        "print('Metadata prepared')"
      ],
      "metadata": {
        "id": "nLHR95PHh5Q4"
      },
      "execution_count": null,
      "outputs": []
    },
    {
      "cell_type": "markdown",
      "source": [
        "**Map visualization parameters**"
      ],
      "metadata": {
        "id": "2a10BI4hv8jM"
      }
    },
    {
      "cell_type": "code",
      "source": [
        "## USING GEEMAP\n",
        "Map = geemap.Map(center=[40,-100], zoom=4, layer_ctrl=True)\n",
        "##Map = geemap.Map(ee_initialize=False, layer_ctrl=True, toolbar_ctrl=False)\n",
        "##Map\n",
        "\n",
        "## Define the visualization parameters.\n",
        "if 'Sentinel' or 'Landsat8' in imageSat:\n",
        "    vizParams = {\n",
        "        'bands': ['B4', 'B3', 'B2'],\n",
        "        'min': 0,\n",
        "        'max': 0.2,\n",
        "        'gamma': [1.8, 1.8, 1.8]}\n",
        "else:\n",
        "    vizParams = {\n",
        "        'bands': ['B3', 'B2', 'B1'],\n",
        "        'min': 0,\n",
        "        'max': 0.2,\n",
        "        'gamma': [1.8, 1.8, 1.8]} ##Landsat7/5\n",
        "\n",
        "\n",
        "## Center the map and display the image.\n",
        "centroid = imageGeometry.buffer(1).centroid().coordinates().getInfo()\n",
        "#print(centroid)\n",
        "lon = centroid[0]\n",
        "lat = centroid[1]\n",
        "Map.setCenter(lon, lat, 10)\n",
        "Map.addLayer(imageTarget, vizParams, 'RGB')\n",
        "Map"
      ],
      "metadata": {
        "id": "_oLxcGmSv7Iv"
      },
      "execution_count": null,
      "outputs": []
    },
    {
      "cell_type": "markdown",
      "source": [
        "**Mask image**"
      ],
      "metadata": {
        "id": "JyZxMrJXtQhx"
      }
    },
    {
      "cell_type": "code",
      "source": [
        "###########################    CLOUD MASK    #############################\n",
        "\n",
        "## Recommended Threshold values for\n",
        "## *Sentinel: 2\n",
        "## *Landsat: 5\n",
        "if 'Sentinel' in imageSat:\n",
        "    threshold = 5\n",
        "else:\n",
        "    threshold = 5\n",
        "\n",
        "## Apply cloud mask\n",
        "cloudMask = CloudScore6S(imageSat, imageTarget, threshold)\n",
        "\n",
        "\n",
        "#############################    LAND MASK    ############################\n",
        "\n",
        "## Apply land mask\n",
        "#landMask = landMaskFunction(cloudMask, land) ## Use if Land is a featureCollection\n",
        "landMask = cloudMask.updateMask(land.max()) ## Use if Land is an imageCollection\n",
        "\n",
        "\n",
        "###################   MASK TIDAL FLATS & TURBIDITY  ######################\n",
        "## Set parameter values\n",
        "if 'Sentinel' in imageSat:\n",
        "    nir = 'B8'\n",
        "    green = 'B3'\n",
        "    swir = 'B11'\n",
        "    blue = 'B2'\n",
        "elif 'Landsat8' in imageSat:\n",
        "    nir = 'B5'\n",
        "    green = 'B3'\n",
        "    swir = 'B6'\n",
        "    blue = 'B2'\n",
        "else:\n",
        "    nir = 'B4'\n",
        "    green = 'B2'\n",
        "    swir = 'B5'\n",
        "    blue = 'B1'\n",
        "\n",
        "## Apply tidal flat mask\n",
        "#ndwiMask = tidalMask(landMask,nir,green)\n",
        "\n",
        "## Apply turbidity mask for the whole image\n",
        "#finalMask = turbidityMask(ndwiMask,imageGeometry,nir,swir,blue,land)\n",
        "finalMask = landMask\n",
        "print('   Image masked...')"
      ],
      "metadata": {
        "id": "rVHXFAtFsvhv",
        "outputId": "fc6f4738-bca5-4007-acec-5ab87ac53326",
        "colab": {
          "base_uri": "https://localhost:8080/"
        }
      },
      "execution_count": 22,
      "outputs": [
        {
          "output_type": "stream",
          "name": "stdout",
          "text": [
            "   Image masked...\n"
          ]
        }
      ]
    },
    {
      "cell_type": "markdown",
      "source": [
        "**Visualize image masked?**"
      ],
      "metadata": {
        "id": "FW-RsB6hwUDe"
      }
    },
    {
      "cell_type": "code",
      "source": [
        "Map = geemap.Map(center=[40,-100], zoom=4, layer_ctrl=True)\n",
        "Map.addLayer(finalMask, vizParams, 'Image masked')\n",
        "Map"
      ],
      "metadata": {
        "id": "_hRT38DSwTCD"
      },
      "execution_count": null,
      "outputs": []
    },
    {
      "cell_type": "markdown",
      "source": [
        "**Depth invariant index**"
      ],
      "metadata": {
        "id": "HW9A8yhvtvyV"
      }
    },
    {
      "cell_type": "code",
      "source": [
        "####################    WATER COLUMN CORRECTION    #######################    \n",
        "\n",
        "## Filter sand polygons by tile/area:\n",
        "#sand = ee.FeatureCollection(sand_areas).flatten().filterBounds(imageGeometry)\n",
        "sand = ee.FeatureCollection(sand_areas).filterBounds(imageGeometry)\n",
        "\n",
        "## Run the Depth-Invariant Index Function\n",
        "imageDII = DII(finalMask, imageScale, sand)\n",
        "\n",
        "print('   Depth-Invariant index applied...')"
      ],
      "metadata": {
        "id": "CNmDdviPtr3z"
      },
      "execution_count": null,
      "outputs": []
    },
    {
      "cell_type": "markdown",
      "source": [
        "**Prepare image for classification**"
      ],
      "metadata": {
        "id": "CGQMxuwKt808"
      }
    },
    {
      "cell_type": "code",
      "source": [
        "#########################    SAMPLING BANDS    ###########################\n",
        "# Classes are:\n",
        "\n",
        "# 0: Softbottom\n",
        "# 1: Hardbottom\n",
        "# 2: Seagrass\n",
        "# 3: Sparse seagrass //if available\n",
        "\n",
        "## Filter ground points by AOI and display classes\n",
        "filterPoints = ee.FeatureCollection(groundPoints).filterBounds(aoi)\n",
        "print('Ground Points per Class:', filterPoints.aggregate_histogram('class').getInfo())\n",
        "\n",
        "## Number of points:\n",
        "totalPoints = filterPoints.size()\n",
        "print('Total points:', totalPoints.getInfo())\n",
        "\n",
        "## Select bands to sample. The B/G band is B2B3 in Sentinel-2 and Landsat-8, and B1B2 for Landsat-7/5\n",
        "if 'Sentinel' in imageSat or 'Landsat8' in imageSat:\n",
        "    bandsClass = ['B1','B2', 'B3', 'B4','B2B3']\n",
        "    bg = ['B2B3']\n",
        "else:\n",
        "    bandsClass = ['B1','B2', 'B3', 'B1B2']\n",
        "    bg = ['B1B2']\n",
        "\n",
        "\n",
        "###################   CLIP TO REGION & APPLY MASKS   #####################\n",
        "## Apply tidal flat & turbidity masks to specific region of interest:\n",
        "# seagrass_mask = ee.Image(\"users/lizcanosandoval/Seagrass/SeagrassMask_FL_100m\")\n",
        "# imageClassify = imageClassify.updateMask(seagrass_mask) #For raster\n",
        "## Use image with no turbidity mask\n",
        "## Add B/G band and clip:\n",
        "imageClassify = landMask.addBands(imageDII.select(bg)).clip(aoi)\n",
        "## Create masks\n",
        "mask1 = tidalMask(imageClassify,nir,green)\n",
        "mask2 = turbidityMask(mask1,aoi,nir,swir,blue,land)\n",
        "\n",
        "## Add bands of interest to sample training points.\n",
        "imageClassify = mask2.select(bandsClass)\n",
        "\n",
        "\n",
        "###########################    APPLY SMOOTHER    #########################\n",
        "## Define a boxcar or low-pass kernel (Used if want to smooth the image)\n",
        "smooth = ee.Kernel.euclidean(**{\n",
        "    'radius': 1, \n",
        "    'units': 'pixels', \n",
        "    'normalize': True\n",
        "})\n",
        "\n",
        "## Apply smoother if set:\n",
        "if 'smooth' in smoothStr:\n",
        "    imageClassify = imageClassify.convolve(smooth)"
      ],
      "metadata": {
        "id": "CiXUA7Mot7DW"
      },
      "execution_count": null,
      "outputs": []
    },
    {
      "cell_type": "markdown",
      "source": [
        "**Visualize pre-classification image?**"
      ],
      "metadata": {
        "id": "f7pmWMJ6zBa9"
      }
    },
    {
      "cell_type": "code",
      "source": [
        "Map = geemap.Map(center=[40,-100], zoom=4, layer_ctrl=True)\n",
        "Map.addLayer(imageClassify, vizParams, 'Image masked')\n",
        "Map"
      ],
      "metadata": {
        "id": "sH3lLaFQyv0C"
      },
      "execution_count": null,
      "outputs": []
    },
    {
      "cell_type": "markdown",
      "source": [
        "**Classify**"
      ],
      "metadata": {
        "id": "m7XL4rBwuHUp"
      }
    },
    {
      "cell_type": "code",
      "source": [
        "################    GET TRAINING AND VALIDATION DATA    ##################\n",
        "## Sample multi-spectral data using all ground points.\n",
        "samplingData = imageClassify.sampleRegions(**{\n",
        "    'collection': filterPoints,\n",
        "    'properties': ['class'],\n",
        "    'scale': imageScale})\n",
        "\n",
        "## Add random numbers to each feature (from 0 to 1).\n",
        "randomData = samplingData.randomColumn(\"random\",0)\n",
        "\n",
        "## Split ground data in training (~70%) and validation (~30%) points\n",
        "trainingData = randomData.filter(ee.Filter.lt(\"random\",0.7))\n",
        "validationData = randomData.filter(ee.Filter.gte(\"random\", 0.7))\n",
        "\n",
        "\n",
        "####################    TRAIN MODELS AND CLASSIFY    #####################\n",
        "print('   Training models and classifying...')\n",
        "\n",
        "## Train SVM classifier\n",
        "SVM = ee.Classifier.libsvm(**{\n",
        "    'kernelType': 'RBF',\n",
        "    'gamma': 100,\n",
        "    'cost': 100\n",
        "})\n",
        "trainSVM = SVM.train(**{\n",
        "    'features': trainingData,\n",
        "    'classProperty': 'class',\n",
        "    'inputProperties': bandsClass\n",
        "})\n",
        "\n",
        "#### Classify the image using the trained classifier\n",
        "classifiedSVM = imageClassify.classify(trainSVM)"
      ],
      "metadata": {
        "id": "ay7ov2_buFvA"
      },
      "execution_count": null,
      "outputs": []
    },
    {
      "cell_type": "markdown",
      "source": [
        "**Visualize classification output?**"
      ],
      "metadata": {
        "id": "vbfrAIMs0ZuL"
      }
    },
    {
      "cell_type": "code",
      "source": [
        "## Define a palette for the distinct classes\n",
        "classPalette = ['#3090C7','#CD7F32','#004E00']#,'#78F878']\n",
        "\n",
        "imgSVM = {\n",
        "    'min':0,\n",
        "    'max':2,\n",
        "    'palette': classPalette\n",
        "    }\n",
        "\n",
        "## Visualize classified image:\n",
        "Map = geemap.Map(center=[lat,lon], zoom=10, layer_ctrl=True)\n",
        "Map.addLayer(imageTarget, vizParams, 'RGB')\n",
        "Map.addLayer(imageClassify, vizParams, 'Image masked')\n",
        "Map.addLayer(classifiedSVM, imgSVM, 'Classified Image')\n",
        "Map"
      ],
      "metadata": {
        "id": "Rm1jkWgvzUbf"
      },
      "execution_count": null,
      "outputs": []
    },
    {
      "cell_type": "markdown",
      "source": [
        "**Accuracy assessment**"
      ],
      "metadata": {
        "id": "HTHOuDMEuU89"
      }
    },
    {
      "cell_type": "code",
      "source": [
        "#######################    TRAINING ACCURACIES    ########################\n",
        "print('   Getting accuracies...')\n",
        "## Get a confusion matrix representing resubstitution accuracy.\n",
        "## {Resubstitution error is the error of a model on the training data.}\n",
        "## Axis 0 (first level) of the matrix correspond to the input classes (columns), \n",
        "## and axis 1 (second level) to the output classes (rows).\n",
        "matrixTrainingSVM = trainSVM.confusionMatrix()\n",
        "\n",
        "\n",
        "#######################    VALIDATION ACCURACIES    ######################\n",
        "\n",
        "## Calculate accuracy using validation data\n",
        "## Classify the image using the trained classifier\n",
        "validationSVM = validationData.classify(trainSVM)\n",
        "\n",
        "## Get a confusion matrix representing expected accuracy (Using validation points - 30%), where:\n",
        "#  0: Softbottom\n",
        "#  1: Hardbottom\n",
        "#  2: Dense Seagrass\n",
        "#  3: Spare Seagrass\n",
        "\n",
        "## Axis 0 (the rows) of the matrix correspond to the actual values, \n",
        "## and Axis 1 (the columns) to the predicted values.\n",
        "errorMx = {'actual': 'class', 'predicted': 'classification'}\n",
        "errorMatrixSVM = validationSVM.errorMatrix(**errorMx)\n",
        "\n",
        "\n",
        "####################    USER/PRODUCER ACCURACIES    ######################\n",
        "\n",
        "## Estimate user and producer accuracies\n",
        "producerAccuracySVM = errorMatrixSVM.producersAccuracy()\n",
        "\n",
        "# USER\n",
        "userAccuracySVM = errorMatrixSVM.consumersAccuracy()\n",
        "\n",
        "\n",
        "#######################    KAPPA COEFFICIENTS    #########################\n",
        "\n",
        "# The Kappa Coefficient is generated from a statistical test to evaluate the accuracy \n",
        "# of a classification. Kappa essentially evaluate how well the classification performed \n",
        "# as compared to just randomly assigning values, i.e. did the classification do better \n",
        "# than random. The Kappa Coefficient can range from -1 to 1. A value of 0 indicated that \n",
        "# the classification is no better than a random classification. A negative number \n",
        "# indicates the classification is significantly worse than random. A value close to 1 \n",
        "# indicates that the classification is significantly better than random.\n",
        "kappaSVM = errorMatrixSVM.kappa()"
      ],
      "metadata": {
        "id": "YucpmSfxuT4q"
      },
      "execution_count": null,
      "outputs": []
    }
  ]
}
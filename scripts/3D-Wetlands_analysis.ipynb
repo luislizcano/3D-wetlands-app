{
 "cells": [
  {
   "cell_type": "markdown",
   "id": "reliable-remove",
   "metadata": {},
   "source": [
    "### Land cover areas per elevation ranges with the 3D Wetlands datasets in GEE"
   ]
  },
  {
   "cell_type": "markdown",
   "id": "painted-remains",
   "metadata": {},
   "source": [
    "by: Luis Lizcano-Sandoval<br/>\n",
    "updated: 11/11/2021"
   ]
  },
  {
   "cell_type": "code",
   "execution_count": 2,
   "id": "desperate-topic",
   "metadata": {},
   "outputs": [
    {
     "name": "stdout",
     "output_type": "stream",
     "text": [
      "EE API version:  0.1.257\n"
     ]
    }
   ],
   "source": [
    "## Import libraries:\n",
    "import ee\n",
    "import numpy as np\n",
    "from IPython.display import display, Image\n",
    "#from pprint import pprint\n",
    "\n",
    "ee.Initialize()\n",
    "print('EE API version: ',ee.__version__)"
   ]
  },
  {
   "cell_type": "markdown",
   "id": "composite-contemporary",
   "metadata": {},
   "source": [
    "### Import collections"
   ]
  },
  {
   "cell_type": "code",
   "execution_count": 2,
   "id": "chronic-wallpaper",
   "metadata": {},
   "outputs": [],
   "source": [
    "## Counties\n",
    "regions = ee.FeatureCollection('users/lizcanosandoval/wv-regions/wv_counties_buffer')\n",
    "\n",
    "## Import DEM collection:\n",
    "dem = ee.ImageCollection(\"projects/imars-3d-wetlands/DEM_GoM\")\n",
    "\n",
    "## Import image collection:\n",
    "wetlands = ee.ImageCollection(\"projects/imars-3d-wetlands/alabama\")\\\n",
    "  .merge(ee.ImageCollection(\"projects/imars-3d-wetlands/fl_big_bend\"))\\\n",
    "  .merge(ee.ImageCollection(\"projects/imars-3d-wetlands/fl_monroe\"))\\\n",
    "  .merge(ee.ImageCollection(\"projects/imars-3d-wetlands/fl_ne\"))\\\n",
    "  .merge(ee.ImageCollection(\"projects/imars-3d-wetlands/fl_panhandle\"))\\\n",
    "  .merge(ee.ImageCollection(\"projects/imars-3d-wetlands/fl_se\"))\\\n",
    "  .merge(ee.ImageCollection(\"projects/imars-3d-wetlands/fl_sw\"))\\\n",
    "  .merge(ee.ImageCollection(\"projects/imars-3d-wetlands/louisiana_e\"))\\\n",
    "  .merge(ee.ImageCollection(\"projects/imars-3d-wetlands/louisiana_w\"))\\\n",
    "  .merge(ee.ImageCollection(\"projects/imars-3d-wetlands/mississippi\"))\\\n",
    "  .merge(ee.ImageCollection(\"projects/imars-3d-wetlands/texas_central\"))\\\n",
    "  .merge(ee.ImageCollection(\"projects/imars-3d-wetlands/texas_ne\"))\\\n",
    "  .merge(ee.ImageCollection(\"projects/imars-3d-wetlands/texas_sw\"))"
   ]
  },
  {
   "cell_type": "markdown",
   "id": "hired-construction",
   "metadata": {},
   "source": [
    "### Check 'regions' properties and prepare metadata"
   ]
  },
  {
   "cell_type": "code",
   "execution_count": 3,
   "id": "handed-freeze",
   "metadata": {},
   "outputs": [
    {
     "name": "stdout",
     "output_type": "stream",
     "text": [
      "['Alabama', 'Florida', 'Georgia', 'Louisiana', 'Mississippi', 'Texas', 'Tamaulipas']\n"
     ]
    }
   ],
   "source": [
    "## Check State names\n",
    "print(regions.aggregate_array('1_State').distinct().getInfo())"
   ]
  },
  {
   "cell_type": "code",
   "execution_count": 3,
   "id": "weekly-constitutional",
   "metadata": {},
   "outputs": [
    {
     "name": "stdout",
     "output_type": "stream",
     "text": [
      "['Alachua', 'Bay', 'Bradford', 'Brevard', 'Broward', 'Calhoun', 'Charlotte', 'Citrus', 'Clay', 'Collier', 'Columbia', 'Desoto', 'Dixie', 'Duval', 'Escambia', 'Flagler', 'Franklin', 'Gadsden', 'Gilchrist', 'Glades', 'Gulf', 'Hamilton', 'Hardee', 'Hendry', 'Hernando', 'Highlands', 'Hillsborough', 'Holmes', 'Indian River', 'Jackson', 'Jefferson', 'Lafayette', 'Lake', 'Lee', 'Leon', 'Levy', 'Liberty', 'Madison', 'Manatee', 'Marion', 'Martin', 'Miami-Dade', 'Monroe', 'Nassau', 'Okaloosa', 'Okeechobee', 'Orange', 'Osceola', 'Palm Beach', 'Pasco', 'Pinellas', 'Polk', 'Putnam', 'Saint Johns', 'Saint Lucie', 'Santa Rosa', 'Sarasota', 'Seminole', 'Sumter', 'Suwannee', 'Taylor', 'Union', 'Volusia', 'Wakulla', 'Walton', 'Washington']\n"
     ]
    }
   ],
   "source": [
    "## Check County names\n",
    "stateLabel = 'Florida'\n",
    "state = regions.filterMetadata('1_State','equals',stateLabel)\n",
    "print(state.aggregate_array('2_County').distinct().sort().getInfo())"
   ]
  },
  {
   "cell_type": "code",
   "execution_count": 4,
   "id": "conventional-developer",
   "metadata": {},
   "outputs": [],
   "source": [
    "## Select county, and set time and end months to filter collection\n",
    "countyLabel = 'Pinellas'\n",
    "county = state.filterMetadata('2_County','equals',countyLabel)\n",
    "## Select periods of months and years of interest.\n",
    "mo_start = 7\n",
    "mo_end = 12\n",
    "yr_start = 2014\n",
    "yr_end = 2018"
   ]
  },
  {
   "cell_type": "code",
   "execution_count": 3,
   "id": "indoor-strength",
   "metadata": {},
   "outputs": [
    {
     "name": "stdout",
     "output_type": "stream",
     "text": [
      "[0.0, 0.1, 0.2, 0.3, 0.4, 0.5, 0.6, 0.7, 0.8, 0.9, 1.0, 1.1, 1.2, 1.3, 1.4, 1.5, 1.6, 1.7, 1.8, 1.9, 2.0, 2.1, 2.2, 2.3, 2.4, 2.5, 2.6, 2.7, 2.8, 2.9, 3.0]\n"
     ]
    }
   ],
   "source": [
    "## Set elevation ranges at x steps\n",
    "minRange = 0.0\n",
    "maxRange = 3.0\n",
    "step = 0.1\n",
    "\n",
    "# Create list of numbers\n",
    "demRanges = np.arange(minRange,maxRange+step,step).tolist()\n",
    "# Reformat numbers\n",
    "demRanges = [round(num,1) for num in demRanges]\n",
    "print(demRanges)"
   ]
  },
  {
   "cell_type": "code",
   "execution_count": 6,
   "id": "proof-eligibility",
   "metadata": {},
   "outputs": [
    {
     "name": "stdout",
     "output_type": "stream",
     "text": [
      "79\n"
     ]
    }
   ],
   "source": [
    "## Filter collection\n",
    "filterCollection = wetlands.filterBounds(county) \\\n",
    "    .filterMetadata('system:index','not_contains','Cloudy') \\\n",
    "    .filter(ee.Filter.calendarRange(mo_start,mo_end,'month'))\n",
    "    #.filter(ee.Filter.calendarRange(yr_start,yr_end,'year'))\n",
    "\n",
    "print(filterCollection.size().getInfo())"
   ]
  },
  {
   "cell_type": "markdown",
   "id": "black-trunk",
   "metadata": {},
   "source": [
    "### Clean misclassified pixels"
   ]
  },
  {
   "cell_type": "code",
   "execution_count": 7,
   "id": "alternate-youth",
   "metadata": {},
   "outputs": [
    {
     "name": "stdout",
     "output_type": "stream",
     "text": [
      "{'type': 'Image', 'bands': [{'id': 'b1', 'data_type': {'type': 'PixelType', 'precision': 'int', 'min': -9.223372036854776e+18, 'max': 9.223372036854776e+18}, 'crs': 'EPSG:4326', 'crs_transform': [1, 0, 0, 0, 1, 0]}]}\n"
     ]
    }
   ],
   "source": [
    "## Function to select pixels equal to 11-developed\n",
    "def developed(image):\n",
    "    mask = ee.Image(image).eq(11)\n",
    "    return image.updateMask(mask)\n",
    "\n",
    "## Function to create mask of water only\n",
    "def water(image):\n",
    "    mask = ee.Image(image).eq(3)\n",
    "    return image.updateMask(mask)\n",
    "\n",
    "## Function to clean missclassified pixels\n",
    "def cleanDeveloped(collection):\n",
    "    # Clean misclassified cloudy pixels:\n",
    "    #fullCollection = collection.filterBounds(county)\n",
    "    # Select only developed pixels\n",
    "    devCollection = collection.map(developed)\n",
    "    # Create mosaic suming pixel values\n",
    "    sumDeveloped = devCollection.sum()\n",
    "    # Select pixels greater than 33 (presence of developed class in 3 or more images)\n",
    "    selectThreshold = sumDeveloped.gt(32)\n",
    "    # Create a mask for misclassified pixels\n",
    "    justDeveloped = sumDeveloped.updateMask(selectThreshold)\n",
    "    # Some areas over water bodies have cloudy pixels we can mask out\n",
    "    waterCollection = collection.map(water)\n",
    "    waterMask = ee.ImageCollection(waterCollection).max().mask().Not()\n",
    "    return justDeveloped.updateMask(waterMask)\n",
    "\n",
    "## Apply water mask on the cleaned collection. This is the mask for \"real\" developed pixels.\n",
    "realDeveloped = cleanDeveloped(filterCollection)\n",
    "print(realDeveloped.getInfo())"
   ]
  },
  {
   "cell_type": "markdown",
   "id": "meaningful-semiconductor",
   "metadata": {},
   "source": [
    "### Final mosaic"
   ]
  },
  {
   "cell_type": "code",
   "execution_count": 8,
   "id": "changing-voluntary",
   "metadata": {},
   "outputs": [],
   "source": [
    "## Function to clean mosaic\n",
    "def clean_function(image):\n",
    "    developed = image.eq(11) #Developed\n",
    "    imageUpdated = image.updateMask(developed) #Developed mask\n",
    "    falseImg = realDeveloped.mask().Not()\n",
    "    maskDev = imageUpdated.updateMask(falseImg).mask().Not()\n",
    "    imageMask = image.updateMask(maskDev)\n",
    "    return imageMask\n",
    "\n",
    "cleanCollection = filterCollection.map(clean_function)\n",
    "\n",
    "## Mosaic\n",
    "mosaicImage = ee.ImageCollection(cleanCollection).max().clip(county)"
   ]
  },
  {
   "cell_type": "markdown",
   "id": "experienced-employee",
   "metadata": {},
   "source": [
    "### Visualize mosaic"
   ]
  },
  {
   "cell_type": "code",
   "execution_count": null,
   "id": "marine-water",
   "metadata": {},
   "outputs": [],
   "source": [
    "## Palette color codes\n",
    "palette = [\n",
    "\"#8C8C8C\",       # 0 no data\n",
    "\"#FFFFFF\",       # 1 cloud\n",
    "\"#621E01\",       # 2 soil\n",
    "\"#1F59CC\",       # 3 water\n",
    "\"FF00FF\",        # 4 - unused\n",
    "\"#E2D924\",       # 5 dead grass\n",
    "\"#7CCD11\",       # 6 marsh\n",
    "\"#AD6309\",       # 7 scrub\n",
    "\"#27D310\",       # 8 grass\n",
    "\"106F00\",        # 9 forested upland\n",
    "\"1EE682\",        # 10 forested wetland\n",
    "\"1E1E1E\",        # 11 developed\n",
    "]\n",
    "\n",
    "#### comment to show mosaic:\n",
    "# mosaicMap = Image(url=mosaicImage.getThumbUrl({\n",
    "#     'dimensions': '500',\n",
    "#     'min':0,\n",
    "#     'max':11,\n",
    "#     'palette':palette,\n",
    "#     'region': ee.Geometry(county.geometry(10)).bounds()\n",
    "#     }))\n",
    "# display(mosaicMap)"
   ]
  },
  {
   "cell_type": "markdown",
   "id": "former-coordinator",
   "metadata": {},
   "source": [
    "### Clip DEM to county/area"
   ]
  },
  {
   "cell_type": "code",
   "execution_count": 9,
   "id": "athletic-council",
   "metadata": {},
   "outputs": [],
   "source": [
    "## Clip DEM by counties selected:\n",
    "## Filter the collection by dates and counties selected.\n",
    "filterDEM = dem.filterBounds(county);\n",
    "clipDEM = filterDEM.mosaic().clip(county);"
   ]
  },
  {
   "cell_type": "markdown",
   "id": "defensive-invitation",
   "metadata": {},
   "source": [
    "### Define function to calculate area"
   ]
  },
  {
   "cell_type": "code",
   "execution_count": 10,
   "id": "coordinated-entrance",
   "metadata": {},
   "outputs": [],
   "source": [
    "## Geometry used for exporting arguments\n",
    "geometry = ee.Geometry(county.geometry(10)).bounds()\n",
    "\n",
    "## Function to calculate areas\n",
    "def calculateAreas(mosaic):\n",
    "    areaImage = ee.Image.pixelArea().addBands(mosaic)\n",
    "    \n",
    "    ## Get total area (m2) per class:\n",
    "    areas = areaImage.reduceRegion(\n",
    "        reducer= ee.Reducer.sum().group(\n",
    "            groupField= 1,\n",
    "            groupName= 'code'),\n",
    "        geometry= geometry,\n",
    "        scale= 2,\n",
    "        maxPixels= 1e13\n",
    "        )\n",
    "    ## ee.List:\n",
    "    classes = [{'class':'Cloud'},{'class':'Soil'},{'class':'Water'},{'class':'Dead grass'},{'class':'Marsh'},{'class':'Scrub'},\n",
    "              {'class':'Grass'},{'class':'Forested upland'},{'class':'Forested wetland'},{'class':'Developed'}]\n",
    "    classAreas = (ee.List(areas.get('groups')).zip(classes))\n",
    "    \n",
    "    ## Convert m^2 to km^2:\n",
    "    def area_list(item):\n",
    "        #areaDict = ee.Dictionary(item)\n",
    "        dict1 = ee.Dictionary(ee.List(item).get(0))\n",
    "        dict2 = ee.Dictionary(ee.List(item).get(1))\n",
    "        areaDict = dict1.combine(dict2)\n",
    "        CODE = ee.Number(areaDict.get('code')).format()\n",
    "        AREA = ee.Number(areaDict.get('sum')).divide(1e6)\n",
    "        CLASS = areaDict.get('class') ##cannot add a class label when respective code is missing\n",
    "        \n",
    "        feature = ee.Feature(None,{'state':stateLabel,'county':countyLabel,'code':CODE,'class':CLASS,'area_km2':AREA})\n",
    "        return feature\n",
    "    \n",
    "    featureCollection = ee.FeatureCollection(classAreas.map(area_list))\n",
    "    return featureCollection"
   ]
  },
  {
   "cell_type": "markdown",
   "id": "close-chile",
   "metadata": {},
   "source": [
    "### Change pixel values"
   ]
  },
  {
   "cell_type": "code",
   "execution_count": 11,
   "id": "fifth-genetics",
   "metadata": {},
   "outputs": [],
   "source": [
    "## Reproject mosaic and remap pixel values\n",
    "fr = [0,1,2,3,5,6,7,8,9,10,11]\n",
    "to = [0,1,2,3,4,5,6,7,8,9,10]\n",
    "mosaic_repr = mosaicImage.reproject(\n",
    "    crs= 'EPSG:4326',\n",
    "    scale= 2).remap(fr,to)"
   ]
  },
  {
   "cell_type": "markdown",
   "id": "geographic-solomon",
   "metadata": {},
   "source": [
    "### Export files to GDrive"
   ]
  },
  {
   "cell_type": "code",
   "execution_count": 12,
   "id": "soviet-conclusion",
   "metadata": {},
   "outputs": [
    {
     "name": "stdout",
     "output_type": "stream",
     "text": [
      "Submitted Florida_Pinellas_1.6-1.7_m\n",
      "Submitted Florida_Pinellas_1.7-1.8_m\n",
      "Submitted Florida_Pinellas_1.8-1.9_m\n",
      "Submitted Florida_Pinellas_1.9-2.0_m\n",
      "Submitted Florida_Pinellas_2.0-2.1_m\n",
      "Submitted Florida_Pinellas_2.1-2.2_m\n",
      "Submitted Florida_Pinellas_2.2-2.3_m\n",
      "Submitted Florida_Pinellas_2.3-2.4_m\n",
      "Submitted Florida_Pinellas_2.4-2.5_m\n",
      "Submitted Florida_Pinellas_2.5-2.6_m\n",
      "Submitted Florida_Pinellas_2.6-2.7_m\n",
      "Submitted Florida_Pinellas_2.7-2.8_m\n",
      "Submitted Florida_Pinellas_2.8-2.9_m\n",
      "Export completed\n"
     ]
    }
   ],
   "source": [
    "## Export areas per elevation ranges\n",
    "for i in list(range(len(demRanges)))[0:-1]:\n",
    "    minElev = demRanges[i]\n",
    "    maxElev = demRanges[i+1]\n",
    "    \n",
    "    # Function to mask ranges\n",
    "    def maskRange(image,min,max):\n",
    "        mask = ee.Image(image).gte(min).And(ee.Image(image).lt(max))\n",
    "        return image.updateMask(mask)\n",
    "    \n",
    "    # Get DEM and Mosaic ranges\n",
    "    demRange = maskRange(clipDEM,minElev,maxElev).mask()\n",
    "    mosaicRange = mosaic_repr.updateMask(demRange)\n",
    "    \n",
    "    # Estimate areas\n",
    "    areasFile = calculateAreas(mosaicRange)\n",
    "    \n",
    "    # File name\n",
    "    fileName = stateLabel+'_'+countyLabel+'_'+str(minElev)+'-'+str(maxElev)+'_m'\n",
    "\n",
    "    ## export\n",
    "    task = ee.batch.Export.table.toDrive(\\\n",
    "          collection= areasFile,\n",
    "          description= fileName,\n",
    "          folder= 'Wetlands',\n",
    "          fileNamePrefix= fileName,\n",
    "          fileFormat= 'CSV')\n",
    "\n",
    "    task.start()\n",
    "    print('Submitted '+fileName)\n",
    "print('Export completed')"
   ]
  },
  {
   "cell_type": "code",
   "execution_count": null,
   "id": "collect-palestinian",
   "metadata": {},
   "outputs": [],
   "source": []
  }
 ],
 "metadata": {
  "kernelspec": {
   "display_name": "Python 3",
   "language": "python",
   "name": "python3"
  },
  "language_info": {
   "codemirror_mode": {
    "name": "ipython",
    "version": 3
   },
   "file_extension": ".py",
   "mimetype": "text/x-python",
   "name": "python",
   "nbconvert_exporter": "python",
   "pygments_lexer": "ipython3",
   "version": "3.9.2"
  }
 },
 "nbformat": 4,
 "nbformat_minor": 5
}

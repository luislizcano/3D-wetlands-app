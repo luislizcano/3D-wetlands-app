{
 "cells": [
  {
   "cell_type": "markdown",
   "id": "alpine-proposition",
   "metadata": {},
   "source": [
    "### Import libraries:"
   ]
  },
  {
   "cell_type": "code",
   "execution_count": null,
   "id": "polished-senegal",
   "metadata": {},
   "outputs": [],
   "source": [
    "import os\n",
    "import pandas as pd\n",
    "import numpy as np\n",
    "import matplotlib.pyplot as plt\n",
    "import seaborn as sns"
   ]
  },
  {
   "cell_type": "markdown",
   "id": "complete-morris",
   "metadata": {},
   "source": [
    "### Load files:"
   ]
  },
  {
   "cell_type": "code",
   "execution_count": null,
   "id": "atlantic-blackjack",
   "metadata": {},
   "outputs": [],
   "source": [
    "## Load Excel file using pandas\n",
    "## To make sure set the file path\n",
    "sys.path.append(os.path.join(os.path.dirname(os.getcwd()),'data'))\n",
    "\n",
    "## This metadata should match to file names and number of files \n",
    "stateLabel = 'Florida'\n",
    "countyLabel = 'Pinellas'\n",
    "\n",
    "rangeList = ['0.0-0.1','0.1-0.2','0.2-0.3','0.3-0.4','0.4-0.5','0.5-0.6','0.6-0.7','0.7-0.8',\n",
    "           '0.8-0.9','0.9-1.0','1.0-1.1','1.1-1.2','1.2-1.3','1.3-1.4','1.4-1.5','1.5-1.6',\n",
    "           '1.6-1.7','1.7-1.8','1.8-1.9','1.9-2.0','2.0-2.1','2.1-2.2','2.2-2.3','2.3-2.4',\n",
    "           '2.4-2.5','2.5-2.6','2.6-2.7','2.7-2.8','2.8-2.9','2.9-3.0','3.0-3.1','3.1-3.2',\n",
    "           '3.2-3.3','3.3-3.4','3.4-3.5','3.5-3.6','3.6-3.7','3.7-3.8','3.8-3.9','3.9-4.0',\n",
    "           '4.0-4.1','4.1-4.2','4.2-4.3','4.3-4.4','4.4-4.5','4.5-4.6','4.6-4.7','4.7-4.8',\n",
    "           '4.8-4.9','4.9-5.0']\n",
    "demList = [0.05,0.15,0.25,0.35,0.45,0.55,0.65,0.75,0.85,0.95,1.05,1.15,1.25,1.35,1.45,1.55,1.65,1.75,\n",
    "           1.85,1.95,2.05,2.15,2.25,2.35,2.45,2.55,2.65,2.75,2.85,2.95,3.05,3.15,3.25,3.35,3.45,3.55,\n",
    "           3.65,3.75,3.85,3.95,4.05,4.15,4.25,4.35,4.45,4.55,4.65,4.75,4.85,4.95]\n",
    "\n",
    "classes = ['Soil','Water','Dead grass','Marsh','Scrub','Grass','Forested upland','Forested wetland','Developed']\n",
    "codes = [2,3,4,5,6,7,8,9,10]\n",
    "dataset = []"
   ]
  },
  {
   "cell_type": "code",
   "execution_count": null,
   "id": "elementary-moldova",
   "metadata": {},
   "outputs": [],
   "source": [
    "for x in range(len(rangeList)):\n",
    "    rangeLabel = rangeList[x]\n",
    "    dem = demList[x]\n",
    "    \n",
    "    ## Load and parse the data\n",
    "    data = pd.read_csv(stateLabel+'_'+countyLabel+'_'+rangeLabel+'_m.csv')\\\n",
    "            .drop(columns=['system:index','.geo','class'],index=0).reset_index(drop=True)\n",
    "    \n",
    "    for c in range(len(codes)):\n",
    "        if codes[c] not in data['code'].values:\n",
    "            row = {'area_km2':0,'code':codes[c],'county':countyLabel,'state':stateLabel}\n",
    "            data = data.append(row,ignore_index=True)\n",
    "    \n",
    "    ## add columns with labels\n",
    "    #data['class'] = pd.Series([rangeLabel for x in range(len(data.index))])\n",
    "    data['range_m'] = pd.Series([rangeLabel for x in range(len(data.index))])\n",
    "    data['elevation_m'] = pd.Series([dem for x in range(len(data.index))])\n",
    "    \n",
    "    ## get proportions\n",
    "    areas = data['area_km2']\n",
    "    # Change: groupby state_office and divide by sum\n",
    "    proportions = areas.apply(lambda y: (y / float(areas.sum()))*100)\n",
    "    data['proportion%'] = proportions\n",
    "    \n",
    "    ## sort by codes and add respective class labels\n",
    "    data=data.sort_values(by=['code'],ascending=True).reset_index(drop=True)\n",
    "    #data['class'] = pd.Series([classes[x] for x in range(len(data.index))])\n",
    "    data.insert(1,'class',pd.Series([classes[x] for x in range(len(data.index))]))\n",
    "    ## append\n",
    "    dataset.append(data)\n",
    "    \n",
    "fileCounty = pd.concat(dataset).reset_index(drop=True)"
   ]
  },
  {
   "cell_type": "code",
   "execution_count": null,
   "id": "marine-drove",
   "metadata": {},
   "outputs": [],
   "source": [
    "## save file\n",
    "# fileCounty.to_excel(stateLabel+'_'+countyLabel+'_0.0-5.0_m.xlsx')"
   ]
  },
  {
   "cell_type": "markdown",
   "id": "subtle-valuation",
   "metadata": {},
   "source": [
    "### Figures:"
   ]
  },
  {
   "cell_type": "code",
   "execution_count": null,
   "id": "attended-sherman",
   "metadata": {},
   "outputs": [],
   "source": [
    " ## Palette color codes\n",
    "palette = {'Soil':\"#621E01\",'Water':\"#1F59CC\",'Dead grass':\"#E2D924\",'Marsh':\"#7CCD11\",\n",
    "           'Scrub':\"#AD6309\",'Grass':\"#27D310\",'Forested upland':\"#106F00\",\n",
    "           'Forested wetland':\"#1EE682\",'Developed':\"#1E1E1E\"}"
   ]
  },
  {
   "cell_type": "code",
   "execution_count": null,
   "id": "passing-dealer",
   "metadata": {},
   "outputs": [],
   "source": [
    "## figure 1\n",
    "fig1, axes1 = plt.subplots(1, 1, figsize=(4,3), sharex=True)\n",
    "x1=\"elevation_m\"\n",
    "y1='area_km2'\n",
    "plt1 = sns.lineplot(data=fileCounty, y=y1, x=x1, hue='class',palette=palette)\n",
    "plt.legend(bbox_to_anchor=(1.04,1),borderaxespad=0)"
   ]
  },
  {
   "cell_type": "code",
   "execution_count": null,
   "id": "anticipated-people",
   "metadata": {},
   "outputs": [],
   "source": [
    "## Figure 2\n",
    "fig2, axes2 = plt.subplots(1, 1, figsize=(4,3), sharex=True)\n",
    "y2='proportion%'\n",
    "x2='elevation_m'\n",
    "classes = ['Soil','Water','Dead grass','Marsh','Scrub','Grass','Forested upland','Forested wetland','Developed']\n",
    "colors = ['#621E01','#1F59CC','#E2D924','#7CCD11','#AD6309','#27D310','#106F00','#1EE682','#1E1E1E']\n",
    "# figure and axis\n",
    "bary9 = np.array(fileCounty.loc[fileCounty['code'] == 2][y2])\n",
    "bary8 = np.array(fileCounty.loc[fileCounty['code'] == 3][y2])\n",
    "bary7 = np.array(fileCounty.loc[fileCounty['code'] == 4][y2])\n",
    "bary6 = np.array(fileCounty.loc[fileCounty['code'] == 5][y2])\n",
    "bary5 = np.array(fileCounty.loc[fileCounty['code'] == 6][y2])\n",
    "bary4 = np.array(fileCounty.loc[fileCounty['code'] == 7][y2])\n",
    "bary3 = np.array(fileCounty.loc[fileCounty['code'] == 8][y2])\n",
    "bary2 = np.array(fileCounty.loc[fileCounty['code'] == 9][y2])\n",
    "bary1 = np.array(fileCounty.loc[fileCounty['code'] == 10][y2])\n",
    "\n",
    "# plot bars\n",
    "w=0.1\n",
    "bar1 = plt.bar(np.array(demList),bary1,width=w,color=colors[8],label=classes[8])\n",
    "bar2 = plt.bar(demList,bary2,bottom=bary1,width=w,color=colors[7],label=classes[7])\n",
    "bar3 = plt.bar(demList,bary3,bottom=bary1+bary2,width=w,color=colors[6],label=classes[6])\n",
    "bar4 = plt.bar(demList,bary4,bottom=bary1+bary2+bary3,width=w,color=colors[5],label=classes[5])\n",
    "bar5 = plt.bar(demList,bary5,bottom=bary1+bary2+bary3+bary4,width=w,color=colors[4],label=classes[4])\n",
    "bar6 = plt.bar(demList,bary6,bottom=bary1+bary2+bary3+bary4+bary5,width=w,color=colors[3],label=classes[3])\n",
    "bar7 = plt.bar(demList,bary7,bottom=bary1+bary2+bary3+bary4+bary5+bary6,width=w,color=colors[2],label=classes[2])\n",
    "bar8 = plt.bar(demList,bary8,bottom=bary1+bary2+bary3+bary4+bary5+bary6+bary7,width=w,color=colors[1],label=classes[1])\n",
    "bar9 = plt.bar(demList,bary9,bottom=bary1+bary2+bary3+bary4+bary5+bary6+bary7++bary8,width=w,color=colors[0],label=classes[0])\n",
    "if countyLabel == 'Pinellas':\n",
    "    line = plt.axvline(x=1.73,color='red',alpha=0.8)\n",
    "elif countyLabel == 'Nueces':\n",
    "    line = plt.axvline(x=2.72,color='red',alpha=0.8)\n",
    "elif countyLabel == 'Terrebonne':\n",
    "    line = plt.axvline(x=4.58,color='red',alpha=0.8)\n",
    "\n",
    "axes2.set_ylim([0,100])\n",
    "axes2.set_xlim([0,5.0])\n",
    "plt.xlabel('Elevation (m)')\n",
    "plt.ylabel('Area (%)')\n",
    "plt.title(countyLabel+' County, '+stateLabel)\n",
    "#plt.legend(classes[::-1])\n",
    "handles,labels = axes2.get_legend_handles_labels()\n",
    "axes2.legend(handles[::-1],labels[::-1],bbox_to_anchor=(1.04,1),borderaxespad=0)"
   ]
  },
  {
   "cell_type": "code",
   "execution_count": null,
   "id": "broad-preliminary",
   "metadata": {},
   "outputs": [],
   "source": [
    "## Figure 3\n",
    "fig3, axes3 = plt.subplots(1, 1, figsize=(4,3), sharex=True)\n",
    "y2=y1\n",
    "x2='elevation_m'\n",
    "# figure and axis\n",
    "bary9 = np.array(fileCounty.loc[fileCounty['code'] == 2][y2])\n",
    "bary8 = np.array(fileCounty.loc[fileCounty['code'] == 3][y2])\n",
    "bary7 = np.array(fileCounty.loc[fileCounty['code'] == 4][y2])\n",
    "bary6 = np.array(fileCounty.loc[fileCounty['code'] == 5][y2])\n",
    "bary5 = np.array(fileCounty.loc[fileCounty['code'] == 6][y2])\n",
    "bary4 = np.array(fileCounty.loc[fileCounty['code'] == 7][y2])\n",
    "bary3 = np.array(fileCounty.loc[fileCounty['code'] == 8][y2])\n",
    "bary2 = np.array(fileCounty.loc[fileCounty['code'] == 9][y2])\n",
    "bary1 = np.array(fileCounty.loc[fileCounty['code'] == 10][y2])\n",
    "\n",
    "# plot bars\n",
    "w=0.1\n",
    "bar1 = plt.bar(np.array(demList),bary1,width=w,color=colors[8],label=classes[8])\n",
    "bar2 = plt.bar(demList,bary2,bottom=bary1,width=w,color=colors[7],label=classes[7])\n",
    "bar3 = plt.bar(demList,bary3,bottom=bary1+bary2,width=w,color=colors[6],label=classes[6])\n",
    "bar4 = plt.bar(demList,bary4,bottom=bary1+bary2+bary3,width=w,color=colors[5],label=classes[5])\n",
    "bar5 = plt.bar(demList,bary5,bottom=bary1+bary2+bary3+bary4,width=w,color=colors[4],label=classes[4])\n",
    "bar6 = plt.bar(demList,bary6,bottom=bary1+bary2+bary3+bary4+bary5,width=w,color=colors[3],label=classes[3])\n",
    "bar7 = plt.bar(demList,bary7,bottom=bary1+bary2+bary3+bary4+bary5+bary6,width=w,color=colors[2],label=classes[2])\n",
    "bar8 = plt.bar(demList,bary8,bottom=bary1+bary2+bary3+bary4+bary5+bary6+bary7,width=w,color=colors[1],label=classes[1])\n",
    "bar9 = plt.bar(demList,bary9,bottom=bary1+bary2+bary3+bary4+bary5+bary6+bary7++bary8,width=w,color=colors[0],label=classes[0])\n",
    "if countyLabel == 'Pinellas':\n",
    "    line = plt.axvline(x=1.73,color='red',alpha=0.8)\n",
    "elif countyLabel == 'Nueces':\n",
    "    line = plt.axvline(x=2.72,color='red',alpha=0.8)\n",
    "elif countyLabel == 'Terrebonne':\n",
    "    line = plt.axvline(x=4.58,color='red',alpha=0.8)\n",
    "\n",
    "# axes3.set_ylim([0,100])\n",
    "axes3.set_xlim([0,5.0])\n",
    "plt.xlabel('Elevation (m)')\n",
    "plt.ylabel('Area (km2)')\n",
    "plt.title(countyLabel+' County, '+stateLabel)\n",
    "handles,labels = axes3.get_legend_handles_labels()\n",
    "axes3.legend(handles[::-1],labels[::-1],bbox_to_anchor=(1.60,1),borderaxespad=0)"
   ]
  }
 ],
 "metadata": {
  "kernelspec": {
   "display_name": "Python 3",
   "language": "python",
   "name": "python3"
  },
  "language_info": {
   "codemirror_mode": {
    "name": "ipython",
    "version": 3
   },
   "file_extension": ".py",
   "mimetype": "text/x-python",
   "name": "python",
   "nbconvert_exporter": "python",
   "pygments_lexer": "ipython3",
   "version": "3.9.2"
  }
 },
 "nbformat": 4,
 "nbformat_minor": 5
}
